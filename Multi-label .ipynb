{
 "cells": [
  {
   "cell_type": "code",
   "execution_count": 1,
   "metadata": {},
   "outputs": [
    {
     "name": "stderr",
     "output_type": "stream",
     "text": [
      "/opt/applications/python/3.6.3/gnu/lib/python3.6/site-packages/h5py/__init__.py:36: FutureWarning: Conversion of the second argument of issubdtype from `float` to `np.floating` is deprecated. In future, it will be treated as `np.float64 == np.dtype(float).type`.\n",
      "  from ._conv import register_converters as _register_converters\n"
     ]
    }
   ],
   "source": [
    "import os\n",
    "import h5py\n",
    "import pandas as pd\n",
    "import time\n",
    "import copy\n",
    "import numpy as np\n",
    "import matplotlib.pyplot as plt\n",
    "import matplotlib.image as mpimg\n",
    "import random\n",
    "from random import randint\n",
    "from random import shuffle\n",
    "\n",
    "import torch\n",
    "import torch.nn as nn\n",
    "import torch.nn.functional as F\n",
    "import torch.optim as optim\n",
    "from torch.optim import lr_scheduler\n",
    "from torch.autograd import Variable\n",
    "import torchvision\n",
    "from torchvision import datasets, models, transforms\n",
    "from torch.utils.data import Dataset, DataLoader\n",
    "\n",
    "%matplotlib inline\n",
    "plt.ion()   # interactive mode"
   ]
  },
  {
   "cell_type": "markdown",
   "metadata": {},
   "source": [
    "## Data loading and processing"
   ]
  },
  {
   "cell_type": "code",
   "execution_count": 2,
   "metadata": {},
   "outputs": [],
   "source": [
    "PATH = \"datasets/\"\n",
    "trainHdf5 = f'{PATH}Chong_train_set.hdf5'\n",
    "traindata = h5py.File(trainHdf5, 'r')\n",
    "valHdf5 = f'{PATH}Chong_valid_set.hdf5'\n",
    "valdata = h5py.File(valHdf5, 'r')\n",
    "testHdf5 = f'{PATH}Chong_test_set.hdf5'\n",
    "testdata = h5py.File(testHdf5, 'r')"
   ]
  },
  {
   "cell_type": "code",
   "execution_count": 3,
   "metadata": {},
   "outputs": [],
   "source": [
    "idx_classes = sorted(list(set([y.decode(\"utf-8\") for y in traindata['label_names']])))\n",
    "idx_to_class = {idx_classes.index(x):x  for x in idx_classes}"
   ]
  },
  {
   "cell_type": "code",
   "execution_count": 4,
   "metadata": {},
   "outputs": [],
   "source": [
    "class ChongSet(Dataset):\n",
    "    \n",
    "    def __init__(self, hdf5, transform=None):\n",
    "        classes = sorted(list(set([y for y in hdf5['label_names']])))\n",
    "        class_to_idx = {x: classes.index(x) for x in classes}\n",
    "        \n",
    "        imgs = hdf5['data1']\n",
    "        labels = hdf5['label_names']\n",
    "        self.transform = transform\n",
    "        self.classes = classes\n",
    "        self.class_to_idx = class_to_idx\n",
    "        self.imgs = imgs\n",
    "        self.labels = labels\n",
    "        self.data = []\n",
    "        \n",
    "        for i in range(len(imgs)):\n",
    "            tmp = (np.array(imgs[i,:]).reshape(2,64,64).T, labels[i])\n",
    "            self.data.append(tmp)\n",
    "  \n",
    "        \n",
    "    def __len__(self):\n",
    "        return(self.imgs.shape[0])\n",
    "    \n",
    "    def __getitem__(self, idx):\n",
    "               \n",
    "        img, cls = self.data[idx]\n",
    "        cls = self.class_to_idx[cls]\n",
    "\n",
    "        if self.transform:\n",
    "            img = self.transform(img)\n",
    "       \n",
    "        return(img, cls)"
   ]
  },
  {
   "cell_type": "code",
   "execution_count": 5,
   "metadata": {},
   "outputs": [],
   "source": [
    "def randomsequence():\n",
    "    \n",
    "    class RandomCrop(object):\n",
    "        \"\"\"Crop randomly the image in a sample.\n",
    "\n",
    "        Args:\n",
    "            output_size (tuple or int): Desired output size. If int, square crop\n",
    "                is made.\n",
    "        \"\"\"\n",
    "\n",
    "        def __init__(self, output_size):\n",
    "            assert isinstance(output_size, (int, tuple))\n",
    "            if isinstance(output_size, int):\n",
    "                self.output_size = (output_size, output_size)\n",
    "            else:\n",
    "                assert len(output_size) == 2\n",
    "                self.output_size = output_size\n",
    "\n",
    "        def __call__(self, sample):\n",
    "            image= sample\n",
    "\n",
    "            h, w = image.shape[:2]\n",
    "            new_h, new_w = self.output_size\n",
    "\n",
    "            top = np.random.randint(0, h - new_h)\n",
    "            left = np.random.randint(0, w - new_w)\n",
    "\n",
    "            image = image[top: top + new_h,\n",
    "                          left: left + new_w]\n",
    "\n",
    "            return image\n",
    "\n",
    "\n",
    "    class FlipLeftRight(object):\n",
    "\n",
    "        def __call__(self, sample):\n",
    "            image= sample\n",
    "            #h,w,c = image.shape\n",
    "            if random.random() < 0.5:\n",
    "                return(np.flip(image, 0).copy())\n",
    "            else:\n",
    "                return(image)\n",
    "\n",
    "    class UpLeftDown(object):\n",
    "\n",
    "        def __call__(self, sample):\n",
    "            image= sample\n",
    "            #h,w,c = image.shape\n",
    "            if random.random() < 0.5:\n",
    "                return(np.flip(image, 1).copy())\n",
    "            else:\n",
    "                return(image)\n",
    "\n",
    "    class RandomRotate(object):\n",
    "\n",
    "        def __call__(self, sample):\n",
    "            image = sample\n",
    "            u = randint(0,3)\n",
    "            return(np.rot90(image, u, (0,1)).copy())\n",
    "\n",
    "    class RandomMultiply(object):\n",
    "        def __init__(self, low, high):\n",
    "            self.multiply = random.uniform(low, high)\n",
    "        def __call__(self, sample):\n",
    "            image=sample\n",
    "            return(np.multiply(image, self.multiply).copy())\n",
    "    \n",
    "    \n",
    "    functions = list([RandomCrop(60),\n",
    "        FlipLeftRight(),\n",
    "        UpLeftDown(),\n",
    "        RandomRotate(),\n",
    "        RandomMultiply(0.8, 1.2)]),\n",
    "    shuffle(functions)\n",
    "    functions = functions[0]\n",
    "    functions.append(transforms.ToTensor())\n",
    "    functions.append(transforms.Normalize([0.5,0.5],[0.5,0.5]))\n",
    "    return(functions)"
   ]
  },
  {
   "cell_type": "code",
   "execution_count": 6,
   "metadata": {},
   "outputs": [],
   "source": [
    "data_transforms = {\n",
    "    'train': transforms.Compose(randomsequence()),\n",
    "    'val':transforms.Compose([\n",
    "        transforms.ToTensor(),\n",
    "        transforms.Normalize([0.5, 0.5], [0.5, 0.5])\n",
    "    ]),\n",
    "    'test':transforms.Compose([\n",
    "        transforms.ToTensor(),\n",
    "        transforms.Normalize([0.5, 0.5], [0.5, 0.5])\n",
    "    ]),\n",
    "}"
   ]
  },
  {
   "cell_type": "code",
   "execution_count": 7,
   "metadata": {},
   "outputs": [
    {
     "data": {
      "text/plain": [
       "{'test': <__main__.ChongSet at 0x7f14fc6f1940>,\n",
       " 'train': <__main__.ChongSet at 0x7f14fc6f6438>,\n",
       " 'val': <__main__.ChongSet at 0x7f14fc6a7630>}"
      ]
     },
     "execution_count": 7,
     "metadata": {},
     "output_type": "execute_result"
    }
   ],
   "source": [
    "image_datasets = {'train': ChongSet(traindata, transform = data_transforms['train'] ), 'val': ChongSet(valdata, transform = data_transforms['val']), 'test': ChongSet(testdata, transform = data_transforms['test'])}\n",
    "image_datasets"
   ]
  },
  {
   "cell_type": "code",
   "execution_count": 8,
   "metadata": {},
   "outputs": [
    {
     "data": {
      "text/plain": [
       "{'test': <torch.utils.data.dataloader.DataLoader at 0x7f14fbe867f0>,\n",
       " 'train': <torch.utils.data.dataloader.DataLoader at 0x7f14fbe866a0>,\n",
       " 'val': <torch.utils.data.dataloader.DataLoader at 0x7f14fbe86748>}"
      ]
     },
     "execution_count": 8,
     "metadata": {},
     "output_type": "execute_result"
    }
   ],
   "source": [
    "dataloaders = {'train':torch.utils.data.DataLoader(image_datasets['train'], batch_size=128, shuffle=True, num_workers=4),\n",
    "               'val': torch.utils.data.DataLoader(image_datasets['val'], batch_size=16, shuffle=False, num_workers=4),\n",
    "               'test': torch.utils.data.DataLoader(image_datasets['test'], batch_size=16, shuffle=False,num_workers=4)}\n",
    "dataloaders"
   ]
  },
  {
   "cell_type": "code",
   "execution_count": 9,
   "metadata": {},
   "outputs": [
    {
     "data": {
      "text/plain": [
       "{'test': 4516, 'train': 21882, 'val': 4491}"
      ]
     },
     "execution_count": 9,
     "metadata": {},
     "output_type": "execute_result"
    }
   ],
   "source": [
    "dataset_sizes = {x: len(image_datasets[x]) for x in ['train', 'val', 'test']}\n",
    "dataset_sizes"
   ]
  },
  {
   "cell_type": "code",
   "execution_count": 10,
   "metadata": {},
   "outputs": [
    {
     "data": {
      "text/plain": [
       "True"
      ]
     },
     "execution_count": 10,
     "metadata": {},
     "output_type": "execute_result"
    }
   ],
   "source": [
    "use_gpu = torch.cuda.is_available()\n",
    "use_gpu"
   ]
  },
  {
   "cell_type": "markdown",
   "metadata": {},
   "source": [
    "## Load model"
   ]
  },
  {
   "cell_type": "code",
   "execution_count": 11,
   "metadata": {},
   "outputs": [],
   "source": [
    "class Deeploc(nn.Module):\n",
    "    def __init__(self):\n",
    "        super(Deeploc, self).__init__()\n",
    "        self.conv1 = nn.Sequential(\n",
    "            nn.Conv2d(2, 64, 3, padding=1),\n",
    "            nn.BatchNorm2d(64),\n",
    "            nn.ReLU()\n",
    "        )\n",
    "        self.conv2 = nn.Sequential(\n",
    "            nn.Conv2d(64, 64, 3, padding =1),\n",
    "            nn.Dropout2d(p=0.2),\n",
    "            nn.BatchNorm2d(64),\n",
    "            nn.ReLU(),\n",
    "            nn.MaxPool2d(kernel_size=2,stride=2, padding = 1)\n",
    "        )\n",
    "        self.conv3 = nn.Sequential(\n",
    "            nn.Conv2d(64, 128, 3, padding =1),\n",
    "            nn.BatchNorm2d(128),\n",
    "            nn.ReLU()\n",
    "        )\n",
    "        self.conv4 = nn.Sequential(\n",
    "            nn.Conv2d(128, 128, 3, padding = 1),\n",
    "            nn.Dropout2d(p=0.2),\n",
    "            nn.BatchNorm2d(128),\n",
    "            nn.ReLU(),\n",
    "            nn.MaxPool2d(kernel_size=2, stride=2, padding = 1)\n",
    "        )\n",
    "        self.conv5 = nn.Sequential(\n",
    "            nn.Conv2d(128, 256, 3, padding = 1),\n",
    "            nn.BatchNorm2d(256),\n",
    "            nn.ReLU()\n",
    "        )\n",
    "        self.conv6 = nn.Sequential(\n",
    "            nn.Conv2d(256, 256, 3, padding = 1),\n",
    "            nn.Dropout2d(p=0.2),\n",
    "            nn.BatchNorm2d(256),\n",
    "            nn.ReLU() \n",
    "        )\n",
    "        self.conv7 = nn.Sequential(\n",
    "            nn.Conv2d(256, 256, 3, padding = 1),\n",
    "            nn.BatchNorm2d(256),\n",
    "            nn.ReLU()\n",
    "        )\n",
    "        self.conv8 = nn.Sequential(\n",
    "            nn.Conv2d(256, 256, 3, padding = 1),\n",
    "            nn.Dropout2d(p=0.2),\n",
    "            nn.BatchNorm2d(256),\n",
    "            nn.ReLU(),\n",
    "            nn.MaxPool2d(kernel_size=2, stride=2)\n",
    "        )\n",
    "        self.fc1 = nn.Sequential(\n",
    "            nn.Linear(8*8*256, 512),\n",
    "            nn.BatchNorm2d(512),\n",
    "            nn.ReLU()\n",
    "        )\n",
    "        self.fc2 = nn.Sequential(\n",
    "            nn.Linear(512, 512),\n",
    "            nn.BatchNorm2d(512),\n",
    "            nn.ReLU()\n",
    "        )\n",
    "        self.logit = nn.Linear(512, 19)\n",
    "\n",
    "        \n",
    "    def forward(self,x):\n",
    "        x = self.conv1(x)\n",
    "        x = self.conv2(x)\n",
    "        x = self.conv3(x)\n",
    "        x = self.conv4(x)\n",
    "        x = self.conv5(x)\n",
    "        x = self.conv6(x)\n",
    "        x = self.conv7(x)\n",
    "        x = self.conv8(x)\n",
    "        x = x.view(-1, 8*8*256)\n",
    "        x = self.fc1(x)\n",
    "        x = self.fc2(x)\n",
    "        x = self.logit(x)\n",
    "        \n",
    "        return F.sigmoid(x)"
   ]
  },
  {
   "cell_type": "code",
   "execution_count": 12,
   "metadata": {},
   "outputs": [],
   "source": [
    "model = Deeploc()"
   ]
  },
  {
   "cell_type": "markdown",
   "metadata": {},
   "source": [
    "## Train and validate functions"
   ]
  },
  {
   "cell_type": "code",
   "execution_count": 13,
   "metadata": {},
   "outputs": [],
   "source": [
    "def get_multilabel_accuracy(pred, target):\n",
    "    pred = pred > 0.4\n",
    "    comp = torch.sum(torch.abs(pred.long() - target.long()).long(), dim=1)\n",
    "    acc = pred.size()[0] - len(torch.nonzero(comp))\n",
    "    return(acc/(pred.size()[0]))"
   ]
  },
  {
   "cell_type": "code",
   "execution_count": 14,
   "metadata": {},
   "outputs": [],
   "source": [
    "def get_element_accuracy(pred, target):\n",
    "    pred = pred > 0.4\n",
    "    r = (pred == target.byte())\n",
    "    acc = r.float().cpu().sum().data[0]\n",
    "    return acc/(pred.size()[1]*pred.size()[0])"
   ]
  },
  {
   "cell_type": "code",
   "execution_count": 15,
   "metadata": {},
   "outputs": [],
   "source": [
    "def train(model, loader, criterion, optimizer, scheduler, verbose=False):\n",
    "    #scheduler.step()\n",
    "    model.train()\n",
    "    running_loss=0\n",
    "    running_accuracy=0\n",
    "    element_accuracy =0\n",
    "    for i, (X, y) in enumerate(loader):\n",
    "        y = torch.from_numpy(np.eye(19)[y]).float()\n",
    "        if use_gpu:\n",
    "            X, y = X.cuda(), y.cuda()\n",
    "        X, y = Variable(X), Variable(y)\n",
    "        \n",
    "        output = model(X)\n",
    "        loss = 50*criterion(output, y)\n",
    "        optimizer.zero_grad()\n",
    "        loss.backward()\n",
    "        optimizer.step()\n",
    "        running_loss += loss.data[0]\n",
    "        acc = get_multilabel_accuracy(output, y)\n",
    "        acce = get_element_accuracy(output, y)\n",
    "        running_accuracy += acc\n",
    "        element_accuracy += acce\n",
    "        if i%400 == 0 and verbose:\n",
    "            pct = float(i+1)/len(loader)\n",
    "            curr_loss = running_loss/(i+1)\n",
    "            curr_acc = running_accuracy/(i+1)\n",
    "            print('Complete:{:.2f}, loss:{:.2f}, Accuracy:{:.4f}'.format(pct*100, curr_loss, curr_acc))\n",
    "    return(running_loss/len(loader),element_accuracy/len(loader),running_accuracy/len(loader))"
   ]
  },
  {
   "cell_type": "code",
   "execution_count": 16,
   "metadata": {},
   "outputs": [],
   "source": [
    "def validate(model, loader, criterion):\n",
    "    model.eval()\n",
    "    running_loss = 0\n",
    "    running_accuracy = 0\n",
    "    element_accuracy =0\n",
    "    targets = torch.FloatTensor(0, 19)\n",
    "    predictions = torch.FloatTensor(0, 19)\n",
    "    for i, (X, y) in enumerate(loader):\n",
    "        y = torch.from_numpy(np.eye(19)[y]).float()\n",
    "        if use_gpu:\n",
    "            X, y = X.cuda(), y.cuda()\n",
    "        X, y = Variable(X, volatile=True), Variable(y)\n",
    "        output = model(X)\n",
    "        loss = 50*criterion(output, y)\n",
    "        acc = get_multilabel_accuracy(output, y)\n",
    "        acce = get_element_accuracy(output, y)\n",
    "        targets = torch.cat((targets, y.cpu().data), 0)\n",
    "        predictions = torch.cat((predictions, output.cpu().data), 0)\n",
    "        running_loss += loss.data[0]\n",
    "        running_accuracy += acc\n",
    "        element_accuracy += acce\n",
    "    fscore = fbeta_score(targets.numpy(), predictions.numpy() > 0.4, beta=2, average = 'samples')\n",
    "    return(running_loss/len(loader), element_accuracy/len(loader), running_accuracy/len(loader), fscore)\n",
    "    "
   ]
  },
  {
   "cell_type": "code",
   "execution_count": 17,
   "metadata": {},
   "outputs": [],
   "source": [
    "criterion = torch.nn.BCELoss()\n",
    "if use_gpu:\n",
    "    model, criterion = model.cuda(), criterion.cuda()"
   ]
  },
  {
   "cell_type": "code",
   "execution_count": 18,
   "metadata": {},
   "outputs": [],
   "source": [
    "model.load_state_dict(torch.load('DeepLocML5.pth'))"
   ]
  },
  {
   "cell_type": "code",
   "execution_count": 19,
   "metadata": {},
   "outputs": [],
   "source": [
    "patience = 5\n",
    "best_loss = 1e4"
   ]
  },
  {
   "cell_type": "code",
   "execution_count": 20,
   "metadata": {},
   "outputs": [],
   "source": [
    "optimizer = optim.Adam(model.parameters(), lr = 0.05)\n",
    "#optimizer = optim.SGD(model.parameters(), lr=0.05, momentum=0.9)\n",
    "scheduler = lr_scheduler.ReduceLROnPlateau(optimizer, 'min')\n",
    "#scheduler = lr_scheduler.StepLR(optimizer, step_size=15, gamma=0.1)"
   ]
  },
  {
   "cell_type": "code",
   "execution_count": 21,
   "metadata": {},
   "outputs": [],
   "source": [
    "from sklearn.metrics import fbeta_score"
   ]
  },
  {
   "cell_type": "code",
   "execution_count": 23,
   "metadata": {},
   "outputs": [
    {
     "name": "stdout",
     "output_type": "stream",
     "text": [
      "Epoch: 0\t train loss: 0.774, train acc: 0.994, actual acc: 0.926\t\n",
      "                val loss: 1.332, val acc: 0.992, actual acc: 0.906\t fscore: 0.920\t\n",
      "                time: 46.6s\n"
     ]
    },
    {
     "name": "stderr",
     "output_type": "stream",
     "text": [
      "/opt/applications/python/3.6.3/gnu/lib/python3.6/site-packages/sklearn/metrics/classification.py:1135: UndefinedMetricWarning: F-score is ill-defined and being set to 0.0 in samples with no predicted labels.\n",
      "  'precision', 'predicted', average, warn_for)\n"
     ]
    },
    {
     "name": "stdout",
     "output_type": "stream",
     "text": [
      "Epoch: 1\t train loss: 0.795, train acc: 0.994, actual acc: 0.924\t\n",
      "                val loss: 1.173, val acc: 0.992, actual acc: 0.913\t fscore: 0.928\t\n",
      "                time: 46.7s\n",
      "Epoch: 2\t train loss: 0.813, train acc: 0.994, actual acc: 0.924\t\n",
      "                val loss: 1.529, val acc: 0.991, actual acc: 0.890\t fscore: 0.910\t\n",
      "                time: 46.7s\n",
      "Epoch: 3\t train loss: 0.803, train acc: 0.994, actual acc: 0.925\t\n",
      "                val loss: 1.475, val acc: 0.990, actual acc: 0.888\t fscore: 0.911\t\n",
      "                time: 46.8s\n",
      "Epoch: 4\t train loss: 0.788, train acc: 0.994, actual acc: 0.927\t\n",
      "                val loss: 0.961, val acc: 0.994, actual acc: 0.932\t fscore: 0.943\t\n",
      "                time: 46.7s\n",
      "Epoch: 5\t train loss: 0.749, train acc: 0.994, actual acc: 0.930\t\n",
      "                val loss: 1.263, val acc: 0.992, actual acc: 0.911\t fscore: 0.929\t\n",
      "                time: 46.8s\n",
      "Epoch: 6\t train loss: 0.749, train acc: 0.995, actual acc: 0.932\t\n",
      "                val loss: 1.520, val acc: 0.991, actual acc: 0.889\t fscore: 0.914\t\n",
      "                time: 46.6s\n",
      "Epoch: 7\t train loss: 0.729, train acc: 0.995, actual acc: 0.930\t\n",
      "                val loss: 0.995, val acc: 0.993, actual acc: 0.921\t fscore: 0.941\t\n",
      "                time: 46.8s\n",
      "Epoch: 8\t train loss: 0.776, train acc: 0.994, actual acc: 0.929\t\n",
      "                val loss: 1.239, val acc: 0.992, actual acc: 0.905\t fscore: 0.923\t\n",
      "                time: 46.7s\n",
      "Epoch: 9\t train loss: 0.691, train acc: 0.995, actual acc: 0.934\t\n",
      "                val loss: 1.544, val acc: 0.990, actual acc: 0.890\t fscore: 0.911\t\n",
      "                time: 46.8s\n",
      "Epoch: 10\t train loss: 0.732, train acc: 0.995, actual acc: 0.930\t\n",
      "                val loss: 1.221, val acc: 0.992, actual acc: 0.906\t fscore: 0.920\t\n",
      "                time: 46.8s\n",
      "Epoch: 11\t train loss: 0.717, train acc: 0.995, actual acc: 0.932\t\n",
      "                val loss: 1.108, val acc: 0.993, actual acc: 0.924\t fscore: 0.937\t\n",
      "                time: 46.7s\n",
      "Epoch: 12\t train loss: 0.722, train acc: 0.995, actual acc: 0.933\t\n",
      "                val loss: 1.102, val acc: 0.993, actual acc: 0.914\t fscore: 0.936\t\n",
      "                time: 46.8s\n",
      "Epoch: 13\t train loss: 0.689, train acc: 0.995, actual acc: 0.935\t\n",
      "                val loss: 1.168, val acc: 0.993, actual acc: 0.914\t fscore: 0.930\t\n",
      "                time: 46.6s\n",
      "Epoch: 14\t train loss: 0.724, train acc: 0.995, actual acc: 0.932\t\n",
      "                val loss: 1.740, val acc: 0.990, actual acc: 0.879\t fscore: 0.900\t\n",
      "                time: 46.8s\n",
      "Epoch: 15\t train loss: 0.676, train acc: 0.995, actual acc: 0.938\t\n",
      "                val loss: 1.097, val acc: 0.993, actual acc: 0.919\t fscore: 0.933\t\n",
      "                time: 46.7s\n",
      "Epoch: 16\t train loss: 0.709, train acc: 0.995, actual acc: 0.935\t\n",
      "                val loss: 1.159, val acc: 0.993, actual acc: 0.913\t fscore: 0.931\t\n",
      "                time: 46.7s\n",
      "Epoch: 17\t train loss: 0.649, train acc: 0.995, actual acc: 0.939\t\n",
      "                val loss: 1.152, val acc: 0.993, actual acc: 0.916\t fscore: 0.935\t\n",
      "                time: 46.8s\n",
      "Epoch: 18\t train loss: 0.679, train acc: 0.995, actual acc: 0.935\t\n",
      "                val loss: 1.386, val acc: 0.992, actual acc: 0.903\t fscore: 0.922\t\n",
      "                time: 46.7s\n",
      "Epoch: 19\t train loss: 0.667, train acc: 0.995, actual acc: 0.938\t\n",
      "                val loss: 1.232, val acc: 0.992, actual acc: 0.907\t fscore: 0.933\t\n",
      "                time: 46.7s\n",
      "Epoch: 20\t train loss: 0.674, train acc: 0.995, actual acc: 0.935\t\n",
      "                val loss: 1.006, val acc: 0.994, actual acc: 0.922\t fscore: 0.943\t\n",
      "                time: 46.7s\n",
      "Epoch: 21\t train loss: 0.661, train acc: 0.995, actual acc: 0.939\t\n",
      "                val loss: 0.973, val acc: 0.994, actual acc: 0.934\t fscore: 0.946\t\n",
      "                time: 46.7s\n",
      "Epoch: 22\t train loss: 0.648, train acc: 0.995, actual acc: 0.939\t\n",
      "                val loss: 1.182, val acc: 0.993, actual acc: 0.914\t fscore: 0.931\t\n",
      "                time: 46.8s\n",
      "Epoch: 23\t train loss: 0.628, train acc: 0.995, actual acc: 0.940\t\n",
      "                val loss: 1.155, val acc: 0.993, actual acc: 0.919\t fscore: 0.933\t\n",
      "                time: 46.7s\n",
      "Epoch: 24\t train loss: 0.618, train acc: 0.995, actual acc: 0.942\t\n",
      "                val loss: 1.660, val acc: 0.990, actual acc: 0.885\t fscore: 0.907\t\n",
      "                time: 46.5s\n",
      "Epoch: 25\t train loss: 0.634, train acc: 0.995, actual acc: 0.942\t\n",
      "                val loss: 1.078, val acc: 0.993, actual acc: 0.923\t fscore: 0.940\t\n",
      "                time: 46.8s\n",
      "Epoch: 26\t train loss: 0.464, train acc: 0.997, actual acc: 0.956\t\n",
      "                val loss: 0.964, val acc: 0.994, actual acc: 0.933\t fscore: 0.946\t\n",
      "                time: 46.8s\n",
      "Epoch: 27\t train loss: 0.408, train acc: 0.997, actual acc: 0.960\t\n",
      "                val loss: 0.889, val acc: 0.995, actual acc: 0.936\t fscore: 0.949\t\n",
      "                time: 46.7s\n",
      "Epoch: 28\t train loss: 0.387, train acc: 0.997, actual acc: 0.964\t\n",
      "                val loss: 0.857, val acc: 0.995, actual acc: 0.940\t fscore: 0.950\t\n",
      "                time: 46.6s\n",
      "Epoch: 29\t train loss: 0.384, train acc: 0.997, actual acc: 0.964\t\n",
      "                val loss: 0.900, val acc: 0.995, actual acc: 0.937\t fscore: 0.950\t\n",
      "                time: 46.7s\n",
      "Epoch: 30\t train loss: 0.382, train acc: 0.997, actual acc: 0.965\t\n",
      "                val loss: 0.874, val acc: 0.995, actual acc: 0.940\t fscore: 0.952\t\n",
      "                time: 46.6s\n",
      "Epoch: 31\t train loss: 0.362, train acc: 0.997, actual acc: 0.965\t\n",
      "                val loss: 0.895, val acc: 0.995, actual acc: 0.939\t fscore: 0.950\t\n",
      "                time: 46.6s\n",
      "Epoch: 32\t train loss: 0.360, train acc: 0.997, actual acc: 0.965\t\n",
      "                val loss: 0.903, val acc: 0.995, actual acc: 0.937\t fscore: 0.950\t\n",
      "                time: 46.6s\n",
      "Epoch: 33\t train loss: 0.345, train acc: 0.997, actual acc: 0.967\t\n",
      "                val loss: 0.868, val acc: 0.995, actual acc: 0.938\t fscore: 0.950\t\n",
      "                time: 46.6s\n",
      "Epoch: 34\t train loss: 0.337, train acc: 0.997, actual acc: 0.966\t\n",
      "                val loss: 0.867, val acc: 0.995, actual acc: 0.937\t fscore: 0.950\t\n",
      "                time: 46.7s\n",
      "Epoch: 35\t train loss: 0.323, train acc: 0.998, actual acc: 0.969\t\n",
      "                val loss: 0.882, val acc: 0.995, actual acc: 0.941\t fscore: 0.952\t\n",
      "                time: 46.7s\n",
      "Epoch: 36\t train loss: 0.333, train acc: 0.997, actual acc: 0.967\t\n",
      "                val loss: 0.883, val acc: 0.995, actual acc: 0.939\t fscore: 0.952\t\n",
      "                time: 46.6s\n",
      "Epoch: 37\t train loss: 0.299, train acc: 0.998, actual acc: 0.971\t\n",
      "                val loss: 0.881, val acc: 0.995, actual acc: 0.940\t fscore: 0.952\t\n",
      "                time: 46.6s\n",
      "Epoch: 38\t train loss: 0.314, train acc: 0.998, actual acc: 0.969\t\n",
      "                val loss: 0.913, val acc: 0.995, actual acc: 0.940\t fscore: 0.950\t\n",
      "                time: 46.6s\n",
      "Epoch: 39\t train loss: 0.312, train acc: 0.998, actual acc: 0.969\t\n",
      "                val loss: 0.894, val acc: 0.995, actual acc: 0.940\t fscore: 0.950\t\n",
      "                time: 46.6s\n",
      "Epoch: 40\t train loss: 0.310, train acc: 0.998, actual acc: 0.970\t\n",
      "                val loss: 0.912, val acc: 0.995, actual acc: 0.940\t fscore: 0.950\t\n",
      "                time: 46.6s\n",
      "Epoch: 41\t train loss: 0.314, train acc: 0.998, actual acc: 0.969\t\n",
      "                val loss: 0.878, val acc: 0.995, actual acc: 0.942\t fscore: 0.953\t\n",
      "                time: 46.6s\n",
      "Epoch: 42\t train loss: 0.305, train acc: 0.998, actual acc: 0.969\t\n",
      "                val loss: 0.878, val acc: 0.995, actual acc: 0.942\t fscore: 0.953\t\n",
      "                time: 46.7s\n",
      "Epoch: 43\t train loss: 0.294, train acc: 0.998, actual acc: 0.971\t\n",
      "                val loss: 0.886, val acc: 0.995, actual acc: 0.941\t fscore: 0.952\t\n",
      "                time: 46.6s\n",
      "Epoch: 44\t train loss: 0.290, train acc: 0.998, actual acc: 0.971\t\n",
      "                val loss: 0.897, val acc: 0.995, actual acc: 0.939\t fscore: 0.951\t\n",
      "                time: 46.6s\n",
      "Epoch: 45\t train loss: 0.312, train acc: 0.998, actual acc: 0.971\t\n",
      "                val loss: 0.881, val acc: 0.995, actual acc: 0.943\t fscore: 0.952\t\n",
      "                time: 46.6s\n",
      "Epoch: 46\t train loss: 0.307, train acc: 0.998, actual acc: 0.970\t\n",
      "                val loss: 0.907, val acc: 0.995, actual acc: 0.940\t fscore: 0.952\t\n",
      "                time: 46.6s\n",
      "Epoch: 47\t train loss: 0.307, train acc: 0.998, actual acc: 0.971\t\n",
      "                val loss: 0.903, val acc: 0.995, actual acc: 0.940\t fscore: 0.951\t\n",
      "                time: 46.7s\n"
     ]
    },
    {
     "name": "stdout",
     "output_type": "stream",
     "text": [
      "Epoch: 48\t train loss: 0.295, train acc: 0.998, actual acc: 0.971\t\n",
      "                val loss: 0.908, val acc: 0.995, actual acc: 0.941\t fscore: 0.951\t\n",
      "                time: 46.7s\n",
      "Epoch: 49\t train loss: 0.310, train acc: 0.998, actual acc: 0.971\t\n",
      "                val loss: 0.917, val acc: 0.995, actual acc: 0.941\t fscore: 0.952\t\n",
      "                time: 46.7s\n",
      "Epoch: 50\t train loss: 0.297, train acc: 0.998, actual acc: 0.970\t\n",
      "                val loss: 0.915, val acc: 0.995, actual acc: 0.940\t fscore: 0.951\t\n",
      "                time: 46.6s\n",
      "Epoch: 51\t train loss: 0.311, train acc: 0.998, actual acc: 0.970\t\n",
      "                val loss: 0.892, val acc: 0.995, actual acc: 0.941\t fscore: 0.952\t\n",
      "                time: 46.6s\n",
      "Epoch: 52\t train loss: 0.289, train acc: 0.998, actual acc: 0.971\t\n",
      "                val loss: 0.916, val acc: 0.995, actual acc: 0.941\t fscore: 0.952\t\n",
      "                time: 46.6s\n",
      "Epoch: 53\t train loss: 0.313, train acc: 0.998, actual acc: 0.970\t\n",
      "                val loss: 0.914, val acc: 0.995, actual acc: 0.941\t fscore: 0.952\t\n",
      "                time: 46.7s\n",
      "Epoch: 54\t train loss: 0.305, train acc: 0.998, actual acc: 0.970\t\n",
      "                val loss: 0.904, val acc: 0.995, actual acc: 0.941\t fscore: 0.952\t\n",
      "                time: 46.7s\n",
      "Epoch: 55\t train loss: 0.310, train acc: 0.998, actual acc: 0.970\t\n",
      "                val loss: 0.924, val acc: 0.995, actual acc: 0.942\t fscore: 0.951\t\n",
      "                time: 46.8s\n",
      "Epoch: 56\t train loss: 0.281, train acc: 0.998, actual acc: 0.973\t\n",
      "                val loss: 0.918, val acc: 0.995, actual acc: 0.941\t fscore: 0.951\t\n",
      "                time: 46.7s\n",
      "Epoch: 57\t train loss: 0.297, train acc: 0.998, actual acc: 0.970\t\n",
      "                val loss: 0.899, val acc: 0.995, actual acc: 0.942\t fscore: 0.953\t\n",
      "                time: 46.6s\n",
      "Epoch: 58\t train loss: 0.298, train acc: 0.998, actual acc: 0.969\t\n",
      "                val loss: 0.899, val acc: 0.995, actual acc: 0.941\t fscore: 0.952\t\n",
      "                time: 46.5s\n",
      "Epoch: 59\t train loss: 0.291, train acc: 0.998, actual acc: 0.971\t\n",
      "                val loss: 0.906, val acc: 0.995, actual acc: 0.940\t fscore: 0.951\t\n",
      "                time: 46.5s\n",
      "Epoch: 60\t train loss: 0.286, train acc: 0.998, actual acc: 0.973\t\n",
      "                val loss: 0.889, val acc: 0.995, actual acc: 0.942\t fscore: 0.952\t\n",
      "                time: 46.6s\n",
      "Epoch: 61\t train loss: 0.308, train acc: 0.998, actual acc: 0.970\t\n",
      "                val loss: 0.905, val acc: 0.995, actual acc: 0.941\t fscore: 0.951\t\n",
      "                time: 46.6s\n",
      "Epoch: 62\t train loss: 0.301, train acc: 0.998, actual acc: 0.970\t\n",
      "                val loss: 0.898, val acc: 0.995, actual acc: 0.942\t fscore: 0.951\t\n",
      "                time: 46.6s\n",
      "Epoch: 63\t train loss: 0.292, train acc: 0.998, actual acc: 0.971\t\n",
      "                val loss: 0.900, val acc: 0.995, actual acc: 0.940\t fscore: 0.952\t\n",
      "                time: 46.6s\n",
      "Epoch: 64\t train loss: 0.272, train acc: 0.998, actual acc: 0.973\t\n",
      "                val loss: 0.875, val acc: 0.995, actual acc: 0.941\t fscore: 0.952\t\n",
      "                time: 46.6s\n",
      "Epoch: 65\t train loss: 0.298, train acc: 0.998, actual acc: 0.970\t\n",
      "                val loss: 0.883, val acc: 0.995, actual acc: 0.942\t fscore: 0.952\t\n",
      "                time: 46.7s\n",
      "Epoch: 66\t train loss: 0.291, train acc: 0.998, actual acc: 0.971\t\n",
      "                val loss: 0.898, val acc: 0.995, actual acc: 0.940\t fscore: 0.952\t\n",
      "                time: 46.6s\n",
      "Epoch: 67\t train loss: 0.300, train acc: 0.998, actual acc: 0.971\t\n",
      "                val loss: 0.918, val acc: 0.995, actual acc: 0.941\t fscore: 0.952\t\n",
      "                time: 46.6s\n",
      "Epoch: 68\t train loss: 0.304, train acc: 0.998, actual acc: 0.970\t\n",
      "                val loss: 0.895, val acc: 0.995, actual acc: 0.940\t fscore: 0.952\t\n",
      "                time: 46.5s\n",
      "Epoch: 69\t train loss: 0.303, train acc: 0.998, actual acc: 0.970\t\n",
      "                val loss: 0.898, val acc: 0.995, actual acc: 0.940\t fscore: 0.952\t\n",
      "                time: 46.6s\n",
      "Epoch: 70\t train loss: 0.292, train acc: 0.998, actual acc: 0.971\t\n",
      "                val loss: 0.907, val acc: 0.995, actual acc: 0.941\t fscore: 0.951\t\n",
      "                time: 46.7s\n",
      "Epoch: 71\t train loss: 0.286, train acc: 0.998, actual acc: 0.971\t\n",
      "                val loss: 0.891, val acc: 0.995, actual acc: 0.940\t fscore: 0.951\t\n",
      "                time: 46.6s\n",
      "Epoch: 72\t train loss: 0.302, train acc: 0.998, actual acc: 0.971\t\n",
      "                val loss: 0.932, val acc: 0.995, actual acc: 0.939\t fscore: 0.951\t\n",
      "                time: 46.6s\n",
      "Epoch: 73\t train loss: 0.293, train acc: 0.998, actual acc: 0.971\t\n",
      "                val loss: 0.910, val acc: 0.995, actual acc: 0.941\t fscore: 0.951\t\n",
      "                time: 46.7s\n",
      "Epoch: 74\t train loss: 0.296, train acc: 0.998, actual acc: 0.972\t\n",
      "                val loss: 0.910, val acc: 0.995, actual acc: 0.940\t fscore: 0.952\t\n",
      "                time: 46.6s\n",
      "Epoch: 75\t train loss: 0.295, train acc: 0.998, actual acc: 0.971\t\n",
      "                val loss: 0.881, val acc: 0.995, actual acc: 0.943\t fscore: 0.953\t\n",
      "                time: 46.6s\n",
      "Epoch: 76\t train loss: 0.293, train acc: 0.998, actual acc: 0.970\t\n",
      "                val loss: 0.866, val acc: 0.995, actual acc: 0.943\t fscore: 0.954\t\n",
      "                time: 46.6s\n",
      "Epoch: 77\t train loss: 0.297, train acc: 0.998, actual acc: 0.971\t\n",
      "                val loss: 0.895, val acc: 0.995, actual acc: 0.941\t fscore: 0.952\t\n",
      "                time: 46.6s\n",
      "Epoch: 78\t train loss: 0.301, train acc: 0.998, actual acc: 0.970\t\n",
      "                val loss: 0.898, val acc: 0.995, actual acc: 0.941\t fscore: 0.952\t\n",
      "                time: 46.6s\n",
      "Epoch: 79\t train loss: 0.299, train acc: 0.998, actual acc: 0.970\t\n",
      "                val loss: 0.909, val acc: 0.995, actual acc: 0.942\t fscore: 0.952\t\n",
      "                time: 46.6s\n",
      "Epoch: 80\t train loss: 0.308, train acc: 0.998, actual acc: 0.969\t\n",
      "                val loss: 0.903, val acc: 0.995, actual acc: 0.942\t fscore: 0.951\t\n",
      "                time: 46.6s\n",
      "Epoch: 81\t train loss: 0.296, train acc: 0.998, actual acc: 0.972\t\n",
      "                val loss: 0.901, val acc: 0.995, actual acc: 0.941\t fscore: 0.952\t\n",
      "                time: 46.5s\n",
      "Epoch: 82\t train loss: 0.281, train acc: 0.998, actual acc: 0.972\t\n",
      "                val loss: 0.892, val acc: 0.995, actual acc: 0.940\t fscore: 0.951\t\n",
      "                time: 46.6s\n",
      "Epoch: 83\t train loss: 0.304, train acc: 0.998, actual acc: 0.971\t\n",
      "                val loss: 0.898, val acc: 0.995, actual acc: 0.941\t fscore: 0.951\t\n",
      "                time: 46.6s\n",
      "Epoch: 84\t train loss: 0.276, train acc: 0.998, actual acc: 0.973\t\n",
      "                val loss: 0.935, val acc: 0.995, actual acc: 0.940\t fscore: 0.951\t\n",
      "                time: 46.7s\n",
      "Epoch: 85\t train loss: 0.310, train acc: 0.998, actual acc: 0.970\t\n",
      "                val loss: 0.901, val acc: 0.995, actual acc: 0.940\t fscore: 0.952\t\n",
      "                time: 46.5s\n",
      "Epoch: 86\t train loss: 0.311, train acc: 0.998, actual acc: 0.970\t\n",
      "                val loss: 0.914, val acc: 0.995, actual acc: 0.940\t fscore: 0.950\t\n",
      "                time: 46.6s\n",
      "Epoch: 87\t train loss: 0.317, train acc: 0.998, actual acc: 0.970\t\n",
      "                val loss: 0.916, val acc: 0.995, actual acc: 0.941\t fscore: 0.951\t\n",
      "                time: 46.8s\n",
      "Epoch: 88\t train loss: 0.310, train acc: 0.998, actual acc: 0.970\t\n",
      "                val loss: 0.914, val acc: 0.995, actual acc: 0.938\t fscore: 0.951\t\n",
      "                time: 46.6s\n",
      "Epoch: 89\t train loss: 0.289, train acc: 0.998, actual acc: 0.971\t\n",
      "                val loss: 0.922, val acc: 0.995, actual acc: 0.939\t fscore: 0.951\t\n",
      "                time: 46.6s\n",
      "Epoch: 90\t train loss: 0.301, train acc: 0.998, actual acc: 0.971\t\n",
      "                val loss: 0.900, val acc: 0.995, actual acc: 0.941\t fscore: 0.951\t\n",
      "                time: 46.6s\n",
      "Epoch: 91\t train loss: 0.311, train acc: 0.998, actual acc: 0.970\t\n",
      "                val loss: 0.911, val acc: 0.995, actual acc: 0.940\t fscore: 0.952\t\n",
      "                time: 46.6s\n",
      "Epoch: 92\t train loss: 0.296, train acc: 0.998, actual acc: 0.969\t\n",
      "                val loss: 0.907, val acc: 0.995, actual acc: 0.941\t fscore: 0.952\t\n",
      "                time: 46.7s\n",
      "Epoch: 93\t train loss: 0.284, train acc: 0.998, actual acc: 0.971\t\n",
      "                val loss: 0.912, val acc: 0.995, actual acc: 0.942\t fscore: 0.952\t\n",
      "                time: 46.6s\n",
      "Epoch: 94\t train loss: 0.287, train acc: 0.998, actual acc: 0.972\t\n",
      "                val loss: 0.899, val acc: 0.995, actual acc: 0.941\t fscore: 0.952\t\n",
      "                time: 46.7s\n"
     ]
    },
    {
     "name": "stdout",
     "output_type": "stream",
     "text": [
      "Epoch: 95\t train loss: 0.297, train acc: 0.998, actual acc: 0.971\t\n",
      "                val loss: 0.915, val acc: 0.995, actual acc: 0.939\t fscore: 0.951\t\n",
      "                time: 46.7s\n",
      "Epoch: 96\t train loss: 0.297, train acc: 0.998, actual acc: 0.971\t\n",
      "                val loss: 0.921, val acc: 0.995, actual acc: 0.938\t fscore: 0.950\t\n",
      "                time: 46.7s\n",
      "Epoch: 97\t train loss: 0.289, train acc: 0.998, actual acc: 0.971\t\n",
      "                val loss: 0.921, val acc: 0.995, actual acc: 0.940\t fscore: 0.951\t\n",
      "                time: 46.7s\n",
      "Epoch: 98\t train loss: 0.300, train acc: 0.998, actual acc: 0.971\t\n",
      "                val loss: 0.900, val acc: 0.995, actual acc: 0.941\t fscore: 0.952\t\n",
      "                time: 46.7s\n",
      "Epoch: 99\t train loss: 0.289, train acc: 0.998, actual acc: 0.972\t\n",
      "                val loss: 0.888, val acc: 0.995, actual acc: 0.942\t fscore: 0.952\t\n",
      "                time: 46.7s\n"
     ]
    }
   ],
   "source": [
    "for e in range(100):\n",
    "    best_model_wts = copy.deepcopy(model.state_dict())\n",
    "    best_acc = 0.0\n",
    "    \n",
    "    start = time.time()\n",
    "    train_loss, train_acce,train_acc = train(model, dataloaders['train'], criterion, optimizer, scheduler, verbose = False)\n",
    "    val_loss, val_acce, val_acc, fscore = validate(model, dataloaders['val'], criterion)\n",
    "    scheduler.step(val_acc, 'max')\n",
    "    end = time.time()\n",
    "    \n",
    "    stats = \"\"\"Epoch: {}\\t train loss: {:.3f}, train acc: {:.3f}, actual acc: {:.3f}\\t\n",
    "                val loss: {:.3f}, val acc: {:.3f}, actual acc: {:.3f}\\t fscore: {:.3f}\\t\n",
    "                time: {:.1f}s\"\"\".format( e, train_loss, train_acce, train_acc, val_loss, val_acce, val_acc, fscore, end-start)\n",
    "    if val_acc > best_acc:\n",
    "        best_acc = val_acc\n",
    "        best_model_wts = copy.deepcopy(model.state_dict())\n",
    "    print(stats)"
   ]
  },
  {
   "cell_type": "code",
   "execution_count": 34,
   "metadata": {},
   "outputs": [],
   "source": [
    "torch.save(model.state_dict(), 'DeepLocML6.pth')"
   ]
  },
  {
   "cell_type": "markdown",
   "metadata": {},
   "source": [
    "## Test data"
   ]
  },
  {
   "cell_type": "code",
   "execution_count": 13,
   "metadata": {},
   "outputs": [],
   "source": [
    "model.load_state_dict(torch.load('DeepLocML6.pth'))"
   ]
  },
  {
   "cell_type": "code",
   "execution_count": 14,
   "metadata": {},
   "outputs": [],
   "source": [
    "model = model.cuda()"
   ]
  },
  {
   "cell_type": "code",
   "execution_count": 15,
   "metadata": {},
   "outputs": [],
   "source": [
    "def duplicate(i_pred):\n",
    "    from collections import Counter\n",
    "    return([item for item, count in Counter(i_pred).items() if count > 1])"
   ]
  },
  {
   "cell_type": "code",
   "execution_count": 16,
   "metadata": {},
   "outputs": [],
   "source": [
    "def missing(L, start, end):\n",
    "    return sorted(set(range(start, end)).difference(L))"
   ]
  },
  {
   "cell_type": "code",
   "execution_count": 17,
   "metadata": {},
   "outputs": [],
   "source": [
    "def compare(i_pred, j_pred, end):\n",
    "\n",
    "    pred_n = np.zeros((end))\n",
    "    #missing\n",
    "    miss_items = missing(i_pred, 0, end)\n",
    "    # duplicate\n",
    "    dup_items = duplicate(i_pred)\n",
    "    for i in list(range(0,end)):\n",
    "        if i in miss_items:\n",
    "            pred_n[i] = 20\n",
    "        elif i in dup_items:\n",
    "            pred_n[i] = 21\n",
    "        else:\n",
    "            t, = np.where(i_pred==i)\n",
    "            pred_n[i] = j_pred[t[0]]\n",
    "    return(pred_n)"
   ]
  },
  {
   "cell_type": "code",
   "execution_count": 21,
   "metadata": {},
   "outputs": [],
   "source": [
    "def pred_analysis(dataset, actual, predict):\n",
    "    for i, (X, y) in enumerate(dataset):\n",
    "        if use_gpu:\n",
    "            X= X.cuda()\n",
    "        X = Variable(X)\n",
    "        outputs = model(X)\n",
    "        outputs = outputs.cpu()\n",
    "        y2 = torch.from_numpy(np.eye(19)[y]).float()\n",
    "        y2 = Variable(y2)\n",
    "        #acc = get_multilabel_accuracy(outputs, y2)\n",
    "        preds = outputs>0.4\n",
    "        #preds= preds.data.numpy()\n",
    "        y = y.numpy()  \n",
    "        end = len(y)\n",
    "        i_pred,j_pred = np.where(preds.data==1)\n",
    "        pred_n = compare(i_pred, j_pred, end)\n",
    "        actual = np.append(actual, y)\n",
    "        predict = np.append(predict, pred_n)\n",
    "    return(actual, predict)"
   ]
  },
  {
   "cell_type": "code",
   "execution_count": 19,
   "metadata": {},
   "outputs": [],
   "source": [
    "def calculate_cf_matrix(dataset):\n",
    "    from sklearn.metrics import confusion_matrix\n",
    "    actual = np.array([])\n",
    "    predict = np.array([])\n",
    "    actual, predict = pred_analysis(dataset, actual, predict)\n",
    "    cf_matrix = confusion_matrix(list(actual), list(predict))\n",
    "    cf_norm = cf_matrix.astype('float') / cf_matrix.sum(axis=1)[:, np.newaxis]\n",
    "    return(cf_matrix, cf_norm)"
   ]
  },
  {
   "cell_type": "code",
   "execution_count": 22,
   "metadata": {},
   "outputs": [
    {
     "name": "stderr",
     "output_type": "stream",
     "text": [
      "/opt/applications/python/3.6.3/gnu/lib/python3.6/site-packages/ipykernel_launcher.py:7: RuntimeWarning: invalid value encountered in true_divide\n",
      "  import sys\n"
     ]
    }
   ],
   "source": [
    "cf_matrix, cf_norm = calculate_cf_matrix(dataloaders['test'])"
   ]
  },
  {
   "cell_type": "code",
   "execution_count": 23,
   "metadata": {},
   "outputs": [],
   "source": [
    "def plot_confusion_matrix(cm, classes,\n",
    "                          normalize=False,\n",
    "                          title='Confusion matrix',\n",
    "                          cmap=plt.cm.Blues):\n",
    "    import itertools\n",
    "    plt.imshow(cm, interpolation='nearest', cmap=cmap)\n",
    "    plt.title(title)\n",
    "    plt.colorbar()\n",
    "    tick_marks = np.arange(len(classes))\n",
    "    plt.xticks(tick_marks, classes, rotation=90)\n",
    "    plt.yticks(tick_marks, classes)\n",
    "\n",
    "    fmt = '.2f' if normalize else 'd'\n",
    "    thresh = cm.max() / 2.\n",
    "    for i, j in itertools.product(range(cm.shape[0]), range(cm.shape[1])):\n",
    "        plt.text(j, i, format(cm[i, j], fmt),\n",
    "                 horizontalalignment=\"center\",\n",
    "                 color=\"white\" if cm[i, j] > thresh else \"black\")\n",
    "\n",
    "    plt.tight_layout()\n",
    "    plt.ylabel('True label')\n",
    "    plt.xlabel('Predicted label')\n",
    "    "
   ]
  },
  {
   "cell_type": "code",
   "execution_count": 25,
   "metadata": {},
   "outputs": [
    {
     "name": "stderr",
     "output_type": "stream",
     "text": [
      "/opt/applications/python/3.6.3/gnu/lib/python3.6/site-packages/numpy/core/_methods.py:26: RuntimeWarning: invalid value encountered in reduce\n",
      "  return umr_maximum(a, axis, None, out, keepdims)\n"
     ]
    },
    {
     "data": {
      "image/png": "[encoded data removed]",
      "text/plain": [
       "<matplotlib.figure.Figure at 0x7f155d634c88>"
      ]
     },
     "metadata": {},
     "output_type": "display_data"
    }
   ],
   "source": [
    "plt.figure(figsize=(20, 15))\n",
    "plot_confusion_matrix(cf_norm, classes=idx_classes, normalize= True,\n",
    "                      title='Confusion matrix, without normalization')\n",
    "plt.show()"
   ]
  },
  {
   "cell_type": "code",
   "execution_count": 26,
   "metadata": {},
   "outputs": [],
   "source": [
    "def bar_chart(cm_norm, classes):\n",
    "    rates = cm_norm.diagonal()\n",
    "    objects = classes\n",
    "    y_pos = np.arange(len(objects))\n",
    "    performance = rates\n",
    "    plt.bar(y_pos, performance, align='center', alpha=0.5)\n",
    "    plt.xticks(y_pos, objects, rotation = 90)\n",
    "    plt.ylabel('Performance')\n",
    "    plt.title('Prediction performance')"
   ]
  },
  {
   "cell_type": "code",
   "execution_count": 29,
   "metadata": {},
   "outputs": [
    {
     "data": {
      "image/png": "[encoded data removed]",
      "text/plain": [
       "<matplotlib.figure.Figure at 0x7f155d23f080>"
      ]
     },
     "metadata": {},
     "output_type": "display_data"
    }
   ],
   "source": [
    "plt.figure(figsize=(10,6))\n",
    "bar_chart(cf_norm, list(range(21)))\n",
    "plt.show()"
   ]
  },
  {
   "cell_type": "code",
   "execution_count": null,
   "metadata": {},
   "outputs": [],
   "source": []
  }
 ],
 "metadata": {
  "kernelspec": {
   "display_name": "Python 3",
   "language": "python",
   "name": "python3"
  },
  "language_info": {
   "codemirror_mode": {
    "name": "ipython",
    "version": 3
   },
   "file_extension": ".py",
   "mimetype": "text/x-python",
   "name": "python",
   "nbconvert_exporter": "python",
   "pygments_lexer": "ipython3",
   "version": "3.6.3"
  }
 },
 "nbformat": 4,
 "nbformat_minor": 2
}
